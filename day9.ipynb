{
 "cells": [
  {
   "cell_type": "code",
   "execution_count": 2,
   "id": "569ad4d7-144f-4a42-ae35-d68c16eeb72d",
   "metadata": {},
   "outputs": [
    {
     "name": "stdout",
     "output_type": "stream",
     "text": [
      "***GENERATION IDENTIFIER***\n",
      "Curious to know what generation you belong to? Please answer the following question.\n"
     ]
    },
    {
     "name": "stdin",
     "output_type": "stream",
     "text": [
      "Which year were you born?  1971\n"
     ]
    },
    {
     "name": "stdout",
     "output_type": "stream",
     "text": [
      "You are a part of Generation X\n"
     ]
    }
   ],
   "source": [
    "print(\"***GENERATION IDENTIFIER***\")\n",
    "print(\n",
    "    \"Curious to know what generation you belong to? Please answer the following question.\"\n",
    ")\n",
    "bornYear = int(input(\"Which year were you born? \"))\n",
    "if bornYear >= 1883 and bornYear <= 1900:\n",
    "  print(\"You are a part of Lost Generation\")\n",
    "elif bornYear >= 1901 and bornYear <= 1927:\n",
    "  print(\"You are a part of Greaest Generation\")\n",
    "elif bornYear >= 1928 and bornYear <= 1945:\n",
    "  print(\"You are a part of Silent Generation\")\n",
    "elif bornYear >= 1946 and bornYear <= 1964:\n",
    "  print(\"You are a part of Baby Boomers\")\n",
    "elif bornYear >= 1965 and bornYear <= 1980:\n",
    "  print(\"You are a part of Generation X\")\n",
    "elif bornYear >= 1981 and bornYear <= 1996:\n",
    "  print(\"You are a part of Millennials\")\n",
    "elif bornYear >= 1997 and bornYear <= 2012:\n",
    "  print(\"You are a part of Generation Z\")\n",
    "elif bornYear >= 2013:\n",
    "  print(\"You are a part of Generation Alpha\")\n",
    "else:\n",
    "  print(\"Try again!\")"
   ]
  },
  {
   "cell_type": "code",
   "execution_count": null,
   "id": "544821f3-1495-46cb-982c-711517407a2a",
   "metadata": {},
   "outputs": [],
   "source": []
  }
 ],
 "metadata": {
  "kernelspec": {
   "display_name": "Python 3 (ipykernel)",
   "language": "python",
   "name": "python3"
  },
  "language_info": {
   "codemirror_mode": {
    "name": "ipython",
    "version": 3
   },
   "file_extension": ".py",
   "mimetype": "text/x-python",
   "name": "python",
   "nbconvert_exporter": "python",
   "pygments_lexer": "ipython3",
   "version": "3.12.4"
  }
 },
 "nbformat": 4,
 "nbformat_minor": 5
}
